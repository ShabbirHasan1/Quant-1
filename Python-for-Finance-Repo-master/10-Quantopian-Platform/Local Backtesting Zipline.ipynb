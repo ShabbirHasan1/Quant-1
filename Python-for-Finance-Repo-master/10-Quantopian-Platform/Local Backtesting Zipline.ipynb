{
 "cells": [
  {
   "cell_type": "code",
   "execution_count": 4,
   "id": "c29734e5",
   "metadata": {},
   "outputs": [],
   "source": [
    "# # import zipline\n",
    "# import numpy as np\n",
    "# import matplotlib.pyplot as plt\n",
    "# # import pandas as pd\n",
    "# import yfinance as yf\n",
    "# import pandas_datareader as web\n",
    "# %matplotlib inline"
   ]
  },
  {
   "cell_type": "code",
   "execution_count": 3,
   "id": "2de2aa2b",
   "metadata": {},
   "outputs": [],
   "source": [
    "import yfinance"
   ]
  },
  {
   "cell_type": "code",
   "execution_count": 7,
   "id": "2696cf46",
   "metadata": {},
   "outputs": [],
   "source": [
    "yfinance.pdr_override()"
   ]
  },
  {
   "cell_type": "code",
   "execution_count": null,
   "id": "64e99b56",
   "metadata": {},
   "outputs": [],
   "source": []
  }
 ],
 "metadata": {
  "kernelspec": {
   "display_name": "Python 3",
   "language": "python",
   "name": "python3"
  },
  "language_info": {
   "codemirror_mode": {
    "name": "ipython",
    "version": 3
   },
   "file_extension": ".py",
   "mimetype": "text/x-python",
   "name": "python",
   "nbconvert_exporter": "python",
   "pygments_lexer": "ipython3",
   "version": "3.8.8"
  }
 },
 "nbformat": 4,
 "nbformat_minor": 5
}
